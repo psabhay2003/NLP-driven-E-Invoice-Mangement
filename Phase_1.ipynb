{
  "nbformat": 4,
  "nbformat_minor": 0,
  "metadata": {
    "colab": {
      "provenance": [],
      "gpuType": "T4"
    },
    "kernelspec": {
      "name": "python3",
      "display_name": "Python 3"
    },
    "language_info": {
      "name": "python"
    },
    "accelerator": "GPU"
  },
  "cells": [
    {
      "cell_type": "code",
      "execution_count": 1,
      "metadata": {
        "colab": {
          "base_uri": "https://localhost:8080/"
        },
        "id": "r9MvbcstD2KL",
        "outputId": "fcfd4101-d6bc-4d1f-efd7-1b5ad124fdc0"
      },
      "outputs": [
        {
          "output_type": "stream",
          "name": "stdout",
          "text": [
            "Mounted at /content/drive\n"
          ]
        }
      ],
      "source": [
        "from google.colab import drive\n",
        "drive.mount('/content/drive')"
      ]
    },
    {
      "cell_type": "code",
      "source": [
        "import os\n",
        "IMG_FOLDER = '/content/drive/MyDrive/NLP driven Invoice Management System/invoice images'\n",
        "\n",
        "print('Found', len(os.listdir(IMG_FOLDER)), 'files')"
      ],
      "metadata": {
        "colab": {
          "base_uri": "https://localhost:8080/"
        },
        "id": "WsPFY-IoEL9d",
        "outputId": "711249c9-5654-4fb9-ffb4-764ec6a6ba0b"
      },
      "execution_count": 2,
      "outputs": [
        {
          "output_type": "stream",
          "name": "stdout",
          "text": [
            "Found 2000 files\n"
          ]
        }
      ]
    },
    {
      "cell_type": "code",
      "source": [
        "#installing dependencies\n",
        "!pip install pytesseract pillow transformers\n",
        "#pytesseract for Optical Character Recognition(OCR)\n",
        "#pillow to open image files\n",
        "#transformers to use pre-trained transformer models\n"
      ],
      "metadata": {
        "colab": {
          "base_uri": "https://localhost:8080/"
        },
        "id": "2cy8E5lhEcfG",
        "outputId": "16490ad8-679f-4784-aea9-36db4b761d52"
      },
      "execution_count": 4,
      "outputs": [
        {
          "output_type": "stream",
          "name": "stdout",
          "text": [
            "Requirement already satisfied: pytesseract in /usr/local/lib/python3.11/dist-packages (0.3.13)\n",
            "Requirement already satisfied: pillow in /usr/local/lib/python3.11/dist-packages (11.2.1)\n",
            "Requirement already satisfied: transformers in /usr/local/lib/python3.11/dist-packages (4.52.4)\n",
            "Requirement already satisfied: packaging>=21.3 in /usr/local/lib/python3.11/dist-packages (from pytesseract) (24.2)\n",
            "Requirement already satisfied: filelock in /usr/local/lib/python3.11/dist-packages (from transformers) (3.18.0)\n",
            "Requirement already satisfied: huggingface-hub<1.0,>=0.30.0 in /usr/local/lib/python3.11/dist-packages (from transformers) (0.32.4)\n",
            "Requirement already satisfied: numpy>=1.17 in /usr/local/lib/python3.11/dist-packages (from transformers) (2.0.2)\n",
            "Requirement already satisfied: pyyaml>=5.1 in /usr/local/lib/python3.11/dist-packages (from transformers) (6.0.2)\n",
            "Requirement already satisfied: regex!=2019.12.17 in /usr/local/lib/python3.11/dist-packages (from transformers) (2024.11.6)\n",
            "Requirement already satisfied: requests in /usr/local/lib/python3.11/dist-packages (from transformers) (2.32.3)\n",
            "Requirement already satisfied: tokenizers<0.22,>=0.21 in /usr/local/lib/python3.11/dist-packages (from transformers) (0.21.1)\n",
            "Requirement already satisfied: safetensors>=0.4.3 in /usr/local/lib/python3.11/dist-packages (from transformers) (0.5.3)\n",
            "Requirement already satisfied: tqdm>=4.27 in /usr/local/lib/python3.11/dist-packages (from transformers) (4.67.1)\n",
            "Requirement already satisfied: fsspec>=2023.5.0 in /usr/local/lib/python3.11/dist-packages (from huggingface-hub<1.0,>=0.30.0->transformers) (2025.3.2)\n",
            "Requirement already satisfied: typing-extensions>=3.7.4.3 in /usr/local/lib/python3.11/dist-packages (from huggingface-hub<1.0,>=0.30.0->transformers) (4.14.0)\n",
            "Requirement already satisfied: hf-xet<2.0.0,>=1.1.2 in /usr/local/lib/python3.11/dist-packages (from huggingface-hub<1.0,>=0.30.0->transformers) (1.1.2)\n",
            "Requirement already satisfied: charset-normalizer<4,>=2 in /usr/local/lib/python3.11/dist-packages (from requests->transformers) (3.4.2)\n",
            "Requirement already satisfied: idna<4,>=2.5 in /usr/local/lib/python3.11/dist-packages (from requests->transformers) (3.10)\n",
            "Requirement already satisfied: urllib3<3,>=1.21.1 in /usr/local/lib/python3.11/dist-packages (from requests->transformers) (2.4.0)\n",
            "Requirement already satisfied: certifi>=2017.4.17 in /usr/local/lib/python3.11/dist-packages (from requests->transformers) (2025.4.26)\n"
          ]
        }
      ]
    },
    {
      "cell_type": "code",
      "source": [
        "!apt update\n",
        "!apt install tesseract-ocr\n",
        "!tesseract --version"
      ],
      "metadata": {
        "colab": {
          "base_uri": "https://localhost:8080/"
        },
        "id": "vurOjNh9G4X7",
        "outputId": "9b20a778-304e-419e-fc7c-2b9ed33374f5"
      },
      "execution_count": 5,
      "outputs": [
        {
          "output_type": "stream",
          "name": "stdout",
          "text": [
            "Get:1 https://cloud.r-project.org/bin/linux/ubuntu jammy-cran40/ InRelease [3,632 B]\n",
            "Get:2 http://security.ubuntu.com/ubuntu jammy-security InRelease [129 kB]\n",
            "Get:3 https://r2u.stat.illinois.edu/ubuntu jammy InRelease [6,555 B]\n",
            "Get:4 https://developer.download.nvidia.com/compute/cuda/repos/ubuntu2204/x86_64  InRelease [1,581 B]\n",
            "Hit:5 http://archive.ubuntu.com/ubuntu jammy InRelease\n",
            "Get:6 http://archive.ubuntu.com/ubuntu jammy-updates InRelease [128 kB]\n",
            "Hit:7 https://ppa.launchpadcontent.net/deadsnakes/ppa/ubuntu jammy InRelease\n",
            "Hit:8 https://ppa.launchpadcontent.net/graphics-drivers/ppa/ubuntu jammy InRelease\n",
            "Get:9 http://archive.ubuntu.com/ubuntu jammy-backports InRelease [127 kB]\n",
            "Hit:10 https://ppa.launchpadcontent.net/ubuntugis/ppa/ubuntu jammy InRelease\n",
            "Get:11 https://r2u.stat.illinois.edu/ubuntu jammy/main all Packages [9,017 kB]\n",
            "Get:12 https://developer.download.nvidia.com/compute/cuda/repos/ubuntu2204/x86_64  Packages [1,765 kB]\n",
            "Get:13 https://r2u.stat.illinois.edu/ubuntu jammy/main amd64 Packages [2,740 kB]\n",
            "Get:14 http://security.ubuntu.com/ubuntu jammy-security/main amd64 Packages [2,984 kB]\n",
            "Get:15 http://archive.ubuntu.com/ubuntu jammy-updates/universe amd64 Packages [1,553 kB]\n",
            "Get:16 http://archive.ubuntu.com/ubuntu jammy-updates/main amd64 Packages [3,295 kB]\n",
            "Fetched 21.8 MB in 6s (3,603 kB/s)\n",
            "Reading package lists... Done\n",
            "Building dependency tree... Done\n",
            "Reading state information... Done\n",
            "36 packages can be upgraded. Run 'apt list --upgradable' to see them.\n",
            "\u001b[1;33mW: \u001b[0mSkipping acquire of configured file 'main/source/Sources' as repository 'https://r2u.stat.illinois.edu/ubuntu jammy InRelease' does not seem to provide it (sources.list entry misspelt?)\u001b[0m\n",
            "Reading package lists... Done\n",
            "Building dependency tree... Done\n",
            "Reading state information... Done\n",
            "tesseract-ocr is already the newest version (4.1.1-2.1build1).\n",
            "0 upgraded, 0 newly installed, 0 to remove and 36 not upgraded.\n",
            "tesseract 4.1.1\n",
            " leptonica-1.82.0\n",
            "  libgif 5.1.9 : libjpeg 8d (libjpeg-turbo 2.1.1) : libpng 1.6.37 : libtiff 4.3.0 : zlib 1.2.11 : libwebp 1.2.2 : libopenjp2 2.4.0\n",
            " Found AVX2\n",
            " Found AVX\n",
            " Found FMA\n",
            " Found SSE\n",
            " Found libarchive 3.6.0 zlib/1.2.11 liblzma/5.2.5 bz2lib/1.0.8 liblz4/1.9.3 libzstd/1.4.8\n"
          ]
        }
      ]
    },
    {
      "cell_type": "code",
      "source": [
        "#lets check whether we can read images and extract text using ocr\n",
        "from PIL import Image\n",
        "import pytesseract\n",
        "import os\n",
        "\n",
        "def ocr_image(image_path):\n",
        "    img = Image.open(image_path)\n",
        "    text = pytesseract.image_to_string(img)\n",
        "    return text\n",
        "\n",
        "#lets check one sample image\n",
        "sample_image_path = os.path.join(IMG_FOLDER, os.listdir(IMG_FOLDER)[0])\n",
        "print(\"Sample image path:\", sample_image_path)\n",
        "\n",
        "text = ocr_image(sample_image_path)\n",
        "print(\"Extracted text:\\n\", text)"
      ],
      "metadata": {
        "colab": {
          "base_uri": "https://localhost:8080/"
        },
        "id": "fEtWpuG1HCWJ",
        "outputId": "a23f75aa-357f-430c-b01d-0907ad1f427b"
      },
      "execution_count": 7,
      "outputs": [
        {
          "output_type": "stream",
          "name": "stdout",
          "text": [
            "Sample image path: /content/drive/MyDrive/NLP driven Invoice Management System/invoice images/Template5_Instance102.jpg\n",
            "Extracted text:\n",
            " Date: 25-Jul-2016\n",
            "Invoice number 1Y3M5d-291\n",
            "\n",
            " \n",
            "\n",
            " \n",
            "\n",
            " \n",
            "\n",
            " \n",
            "\n",
            " \n",
            "\n",
            " \n",
            "\n",
            "PO Number :01\n",
            "\n",
            "Bill to:Hunter White\n",
            "\n",
            "‘580 Johns Trafficway Apt. 099\n",
            "\n",
            "Lake Elizabethfort, CA 70291 US\n",
            "\n",
            "Tel:+(383)777-6857\n",
            "\n",
            "Email:robbinsjoseph@example.net\n",
            "\n",
            "Site:http://www.jackson-roberts.com/\n",
            "‘ty © Description Unitprice | Amount\n",
            "3.00 427900__| Nor campaign. 66.31 198598\n",
            "5.00 492288 | Care require. 99.14 495.70\n",
            "6.00 ‘377740 | Nor past. 7453 447.18\n",
            "\n",
            " \n",
            "\n",
            " \n",
            "\n",
            " \n",
            "\n",
            " \n",
            "\n",
            " \n",
            "\n",
            " \n",
            "\n",
            "‘SUB_TOTAL : 1141.81 EUR\n",
            "TAX:VAT (6.32%): 72.16 EUR\n",
            "BALANCE DUE : 1183.48 EUR\n",
            "\n",
            "Total in words: one thousand, one hundred and-\n",
            "ighty-three point four eight\n",
            "\n",
            " \n",
            "\n",
            "Note: All payments to be made in cash.\n",
            "Contact us for queries on these quotations.\n",
            "\n",
            " \n",
            "\n",
            "Address:233 Foster Gardens\n",
            "Johnburgh, ID 41900 US\n",
            "\n",
            "Bailey Group\n",
            "Email:paul73@example.com\n",
            "\f\n"
          ]
        }
      ]
    },
    {
      "cell_type": "code",
      "source": [
        "# Empty list to store extracted data\n",
        "data = []\n",
        "\n",
        "# Loop over all images\n",
        "for i, fname in enumerate(os.listdir(IMG_FOLDER)):\n",
        "    image_path = os.path.join(IMG_FOLDER, fname)\n",
        "    text = ocr_image(image_path)\n",
        "    data.append({'filename': fname, 'extracted_text': text})\n",
        "\n",
        "    if i % 100 == 0:\n",
        "        print(f\"Processed {i} images...\")\n",
        "\n",
        "# Convert to DataFrame\n",
        "import pandas as pd\n",
        "df = pd.DataFrame(data)\n",
        "\n",
        "# Save as csv\n",
        "csv_path = '/content/drive/MyDrive/NLP driven Invoice Management System/Phase 1 Output/invoice_texts.csv'\n",
        "os.makedirs(os.path.dirname(csv_path), exist_ok=True)\n",
        "df.to_csv(csv_path, index=False)\n",
        "print(f\"CSV saved to {csv_path}\")"
      ],
      "metadata": {
        "colab": {
          "base_uri": "https://localhost:8080/"
        },
        "id": "bQYWPCFuHVJE",
        "outputId": "906e4e37-143f-4784-93fc-e0b206435a06"
      },
      "execution_count": 8,
      "outputs": [
        {
          "output_type": "stream",
          "name": "stdout",
          "text": [
            "Processed 0 images...\n",
            "Processed 100 images...\n",
            "Processed 200 images...\n",
            "Processed 300 images...\n",
            "Processed 400 images...\n",
            "Processed 500 images...\n",
            "Processed 600 images...\n",
            "Processed 700 images...\n",
            "Processed 800 images...\n",
            "Processed 900 images...\n",
            "Processed 1000 images...\n",
            "Processed 1100 images...\n",
            "Processed 1200 images...\n",
            "Processed 1300 images...\n",
            "Processed 1400 images...\n",
            "Processed 1500 images...\n",
            "Processed 1600 images...\n",
            "Processed 1700 images...\n",
            "Processed 1800 images...\n",
            "Processed 1900 images...\n",
            "CSV saved to /content/drive/MyDrive/NLP driven Invoice Management System/Phase 1 Output/invoice_texts.csv\n"
          ]
        }
      ]
    }
  ]
}